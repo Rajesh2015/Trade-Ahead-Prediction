{
  "nbformat": 4,
  "nbformat_minor": 0,
  "metadata": {
    "colab": {
      "provenance": []
    },
    "kernelspec": {
      "name": "python3",
      "display_name": "Python 3"
    },
    "language_info": {
      "name": "python"
    }
  },
  "cells": [
    {
      "cell_type": "markdown",
      "source": [
        "# Trade-Ahead-Prediction  \n",
        "\n",
        "## Objective  \n",
        "This project focuses on analyzing stock price data and financial indicators for companies listed on the New York Stock Exchange (NYSE). The goal is to group stocks based on their characteristics using clustering techniques and provide actionable insights into the features of each group.  \n",
        "\n",
        "Trade&Ahead, a financial consultancy firm, aims to use this analysis to deliver personalized investment strategies to its customers.  \n",
        "\n",
        "---\n",
        "\n",
        "## Data Description  \n",
        "The dataset contains information on stock prices and financial indicators such as ROE, earnings per share, and P/E ratio. Below is a summary of the data fields:  \n",
        "\n",
        "- **Ticker Symbol**: Abbreviation used to uniquely identify publicly traded shares of a particular stock on a stock market.  \n",
        "- **Company**: Name of the company.  \n",
        "- **GICS Sector**: The specific economic sector assigned to a company by the Global Industry Classification Standard (GICS) that best defines its business operations.  \n",
        "- **GICS Sub Industry**: The specific sub-industry group assigned to a company by the Global Industry Classification Standard (GICS) that best defines its business operations.  \n",
        "- **Current Price**: Current stock price in dollars.  \n",
        "- **Price Change**: Percentage change in the stock price in 13 weeks.  \n",
        "- **Volatility**: Standard deviation of the stock price over the past 13 weeks.  \n",
        "- **ROE**: A measure of financial performance calculated by dividing net income by shareholders' equity (shareholders' equity is equal to a company's assets minus its debt).  \n",
        "- **Cash Ratio**: The ratio of a company's total reserves of cash and cash equivalents to its total current liabilities.  \n",
        "- **Net Cash Flow**: The difference between a company's cash inflows and outflows (in dollars).  \n",
        "- **Net Income**: Revenues minus expenses, interest, and taxes (in dollars).  \n",
        "- **Earnings Per Share**: Company's net profit divided by the number of common shares it has outstanding (in dollars).  \n",
        "- **Estimated Shares Outstanding**: The number of shares of the company's stock currently held by all its shareholders.  \n",
        "- **P/E Ratio**: Ratio of the company's current stock price to the earnings per share.  \n",
        "- **P/B Ratio**: Ratio of the company's stock price per share by its book value per share (book value of a company is the net difference between that company's total assets and total liabilities).  \n",
        "\n",
        "---\n",
        "\n",
        "## Exploratory Data Analysis (EDA) Questions  \n",
        "\n",
        "1. **What does the distribution of stock prices look like?**  \n",
        "   Analyze the spread and skewness of stock prices to understand pricing patterns.  \n",
        "\n",
        "2. **The stocks of which economic sector have seen the maximum price increase on average?**  \n",
        "   Identify sectors showing significant growth trends based on price changes.  \n",
        "\n",
        "3. **How are the different variables correlated with each other?**  \n",
        "   Use correlation analysis to identify relationships between financial indicators (e.g., ROE, P/E Ratio) and stock performance.  \n",
        "\n",
        "4. **How does the average cash ratio vary across economic sectors?**  \n",
        "   Examine the ability of companies in each sector to meet short-term obligations using cash equivalents.  \n",
        "\n",
        "5. **How does the P/E ratio vary, on average, across economic sectors?**  \n",
        "   Analyze P/E ratios to determine how investors value stocks in different sectors relative to earnings.  \n",
        "\n",
        "---"
      ],
      "metadata": {
        "id": "7elPoZo8s5qw"
      }
    },
    {
      "cell_type": "code",
      "source": [
        "import numpy as np\n",
        "import pandas as pd\n",
        "\n",
        "# Libraries to help with data visualization\n",
        "import matplotlib.pyplot as plt\n",
        "import seaborn as sns\n",
        "\n",
        "# # Import standard scalar\n",
        "from sklearn.preprocessing import StandardScaler\n",
        "\n",
        "# distances\n",
        "from scipy.spatial.distance import cdist, pdist\n",
        "\n",
        "# Lib To  perform k-means clustering and compute silhouette scores\n",
        "from sklearn.cluster import KMeans\n",
        "from sklearn.metrics import silhouette_score\n",
        "\n",
        "# to perform hierarchical clustering, compute cophenetic correlation, and create dendrograms\n",
        "from sklearn.cluster import AgglomerativeClustering\n",
        "from scipy.cluster.hierarchy import dendrogram, linkage, cophenet\n",
        "\n",
        "# To ignore unnecessary warnings\n",
        "import warnings\n",
        "warnings.filterwarnings(\"ignore\")"
      ],
      "metadata": {
        "id": "M4PkIMEq_7o9"
      },
      "execution_count": 1,
      "outputs": []
    },
    {
      "cell_type": "code",
      "source": [
        "# mount the drive\n",
        "from google.colab import drive\n",
        "drive.mount('/content/drive')"
      ],
      "metadata": {
        "id": "Usl1JW0hAybY"
      },
      "execution_count": null,
      "outputs": []
    },
    {
      "cell_type": "code",
      "source": [
        "path='/content/drive/MyDrive/Python Course'"
      ],
      "metadata": {
        "id": "nZet4HGDA0wa"
      },
      "execution_count": null,
      "outputs": []
    },
    {
      "cell_type": "code",
      "source": [
        "# store pellete for future use\n",
        "pellete='Set2'\n",
        "colors = sns.color_palette(pellete)  # Get Set2 color palette for future use\n",
        "sns.set(style=\"darkgrid\") # Set grid style"
      ],
      "metadata": {
        "id": "IJu7024sA3pM"
      },
      "execution_count": null,
      "outputs": []
    },
    {
      "cell_type": "markdown",
      "source": [
        "## **Data Overview**"
      ],
      "metadata": {
        "id": "7kp73zODuZ0p"
      }
    },
    {
      "cell_type": "markdown",
      "source": [
        "- Observe the first few rows of the dataset, to check whether the dataset has been loaded properly or not\n",
        "- Get information about the number of rows and columns in the dataset\n",
        "- Find out the data types of the columns to ensure that data is stored in the preferred format and the value of each property is as expected.\n",
        "- Check the statistical summary of the dataset to get an overview of the numerical columns of the data\n",
        "- Check for missing values\n",
        "- Check for null values"
      ],
      "metadata": {
        "id": "1qOhFSCcuV2t"
      }
    }
  ]
}